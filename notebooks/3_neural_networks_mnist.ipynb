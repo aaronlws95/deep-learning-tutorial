{
 "cells": [
  {
   "cell_type": "markdown",
   "metadata": {
    "colab_type": "text",
    "id": "NbD6wN2jsNQk"
   },
   "source": [
    "# Part 3: Neural Networks\n",
    "\n",
    "In this example, we introduce **neural networks** for classifying MNIST. This example builds on content from the [previous notebook on logistic regression](2_logistic_regression.ipynb)."
   ]
  },
  {
   "cell_type": "markdown",
   "metadata": {
    "colab_type": "text",
    "id": "tWy1TeXaugg5"
   },
   "source": [
    "# Setup"
   ]
  },
  {
   "cell_type": "code",
   "execution_count": 1,
   "metadata": {
    "colab": {},
    "colab_type": "code",
    "id": "uInhSQxQ2j0q"
   },
   "outputs": [],
   "source": [
    "%matplotlib inline"
   ]
  },
  {
   "cell_type": "code",
   "execution_count": 2,
   "metadata": {
    "colab": {},
    "colab_type": "code",
    "id": "wToffUGKsKUK"
   },
   "outputs": [],
   "source": [
    "import torch\n",
    "import torch.nn as nn\n",
    "import torch.nn.functional as F\n",
    "import torch.optim as optim\n",
    "import torchvision\n",
    "import torchvision.transforms as transforms\n",
    "import matplotlib.pyplot as plt\n",
    "from PIL import Image\n",
    "import numpy as np"
   ]
  },
  {
   "cell_type": "code",
   "execution_count": 3,
   "metadata": {
    "colab": {},
    "colab_type": "code",
    "id": "qZz0qkjP6gxI"
   },
   "outputs": [],
   "source": [
    "# Settings\n",
    "NUM_WORKERS = 2\n",
    "NUM_CLASSES = 10\n",
    "\n",
    "# Hyperparameters\n",
    "BATCH_SIZE = 4\n",
    "IMG_SIZE = 28 # Modify image dimensions to RESIZE x RESIZE\n",
    "NUM_EPOCH = 5\n",
    "LEARNING_RATE = 0.01\n",
    "MOMENTUM = 0.9"
   ]
  },
  {
   "cell_type": "markdown",
   "metadata": {
    "colab_type": "text",
    "id": "o260Uym4ul0T"
   },
   "source": [
    "# Prepare Data"
   ]
  },
  {
   "cell_type": "code",
   "execution_count": 4,
   "metadata": {
    "colab": {
     "base_uri": "https://localhost:8080/",
     "height": 202
    },
    "colab_type": "code",
    "id": "-k-iK-vGyD4Q",
    "outputId": "ef97b42f-a45c-4aa0-949d-8a3cb924f5f6"
   },
   "outputs": [],
   "source": [
    "# Create training dataloader\n",
    "train_set = torchvision.datasets.MNIST(root='./data', \n",
    "                                       train=True, \n",
    "                                       transform=transforms.ToTensor(), \n",
    "                                       download=True)\n",
    "train_loader = torch.utils.data.DataLoader(dataset=train_set, \n",
    "                                           batch_size=BATCH_SIZE, \n",
    "                                           shuffle=True)\n",
    "\n",
    "# Create testing dataloader\n",
    "test_set = torchvision.datasets.MNIST(root='./data', \n",
    "                                      train=False, \n",
    "                                      transform=transforms.ToTensor(), \n",
    "                                      download=True)\n",
    "test_loader = torch.utils.data.DataLoader(dataset=test_set, \n",
    "                                          batch_size=BATCH_SIZE, \n",
    "                                          shuffle=False)"
   ]
  },
  {
   "cell_type": "code",
   "execution_count": 5,
   "metadata": {
    "colab": {
     "base_uri": "https://localhost:8080/",
     "height": 286
    },
    "colab_type": "code",
    "id": "rbMIwX-w6KRi",
    "outputId": "a1250fce-f0cf-4d00-b908-7908f23ebc14"
   },
   "outputs": [
    {
     "name": "stdout",
     "output_type": "stream",
     "text": [
      "Number of training samples: 60000\n",
      "Number of testing samples: 10000\n"
     ]
    }
   ],
   "source": [
    "print('Number of training samples:', len(train_set))\n",
    "print('Number of testing samples:', len(test_set))"
   ]
  },
  {
   "cell_type": "code",
   "execution_count": 6,
   "metadata": {
    "colab": {},
    "colab_type": "code",
    "id": "MxQpv3WksrNw"
   },
   "outputs": [
    {
     "name": "stdout",
     "output_type": "stream",
     "text": [
      "Shape: torch.Size([1, 28, 28])\n"
     ]
    },
    {
     "data": {
      "image/png": "[encoded data removed]",
      "text/plain": [
       "<Figure size 432x288 with 1 Axes>"
      ]
     },
     "metadata": {
      "needs_background": "light"
     },
     "output_type": "display_data"
    }
   ],
   "source": [
    "# Load one data batch\n",
    "inputs, classes = next(iter(train_loader))\n",
    "\n",
    "# Print image shape\n",
    "print('Shape:', inputs[0].shape)\n",
    "\n",
    "# Visualize the data batch\n",
    "out = torchvision.utils.make_grid(inputs)\n",
    "plt.imshow(out.permute(1, 2, 0))\n",
    "plt.title('Classes: ' + str(classes.numpy()))\n",
    "plt.show()"
   ]
  },
  {
   "cell_type": "markdown",
   "metadata": {
    "colab_type": "text",
    "id": "269Heg7j-uT3"
   },
   "source": [
    "# Model\n",
    "\n",
    "Here we are going to use a **neural network** to classify our images."
   ]
  },
  {
   "cell_type": "markdown",
   "metadata": {},
   "source": [
    "<img src=\"images/neural_network.png\">"
   ]
  },
  {
   "cell_type": "code",
   "execution_count": 7,
   "metadata": {
    "colab": {},
    "colab_type": "code",
    "id": "C1wM567f-tyA"
   },
   "outputs": [],
   "source": [
    "# Two layer linear neural network\n",
    "class LinearNet(nn.Module):\n",
    "\n",
    "    def __init__(self):\n",
    "        super(LinearNet, self).__init__()\n",
    "        self.fc1 = nn.Linear(IMG_SIZE*IMG_SIZE*1, (IMG_SIZE*IMG_SIZE*1)//2)\n",
    "        self.fc2 = nn.Linear((IMG_SIZE*IMG_SIZE*1)//2, NUM_CLASSES)\n",
    "\n",
    "    def forward(self, x):\n",
    "        x = x.view(BATCH_SIZE, -1)  # flatten image into a vector\n",
    "        x = self.fc1(x)             \n",
    "        x = self.fc2(x)\n",
    "        return x"
   ]
  },
  {
   "cell_type": "code",
   "execution_count": 8,
   "metadata": {
    "colab": {},
    "colab_type": "code",
    "id": "wDr8WvlgBXrW"
   },
   "outputs": [],
   "source": [
    "net = LinearNet()\n",
    "\n",
    "# Send model to GPU\n",
    "net = net.cuda()"
   ]
  },
  {
   "cell_type": "markdown",
   "metadata": {
    "colab_type": "text",
    "id": "q7q4gXYbAsPQ"
   },
   "source": [
    "# Loss Function"
   ]
  },
  {
   "cell_type": "code",
   "execution_count": 9,
   "metadata": {
    "colab": {},
    "colab_type": "code",
    "id": "d6kWSti-udDG"
   },
   "outputs": [],
   "source": [
    "# Define loss function\n",
    "criterion = nn.CrossEntropyLoss()"
   ]
  },
  {
   "cell_type": "markdown",
   "metadata": {
    "colab_type": "text",
    "id": "wwrAAwTwFvJk"
   },
   "source": [
    "# Optimizer"
   ]
  },
  {
   "cell_type": "code",
   "execution_count": 10,
   "metadata": {
    "colab": {},
    "colab_type": "code",
    "id": "gYeijXFQFvnk"
   },
   "outputs": [],
   "source": [
    "# Define optimizer\n",
    "optimizer = optim.SGD(net.parameters(), lr=LEARNING_RATE, momentum=MOMENTUM)"
   ]
  },
  {
   "cell_type": "markdown",
   "metadata": {
    "colab_type": "text",
    "id": "MsLOQId4BH9s"
   },
   "source": [
    "# Training the Model"
   ]
  },
  {
   "cell_type": "code",
   "execution_count": 11,
   "metadata": {
    "colab": {
     "base_uri": "https://localhost:8080/",
     "height": 202
    },
    "colab_type": "code",
    "id": "PmMJHpU3BHhZ",
    "outputId": "ecdcdcc2-9109-46db-b3ff-3918e2524ee4"
   },
   "outputs": [
    {
     "name": "stdout",
     "output_type": "stream",
     "text": [
      "Epoch: 1 | Batch:  2000 | Loss: 0.663\n",
      "Epoch: 1 | Batch:  4000 | Loss: 0.695\n",
      "Epoch: 1 | Batch:  6000 | Loss: 0.648\n",
      "Epoch: 1 | Batch:  8000 | Loss: 0.681\n",
      "Epoch: 1 | Batch: 10000 | Loss: 0.676\n",
      "Epoch: 1 | Batch: 12000 | Loss: 0.678\n",
      "Epoch: 1 | Batch: 14000 | Loss: 0.657\n",
      "Epoch: 2 | Batch:  2000 | Loss: 0.659\n",
      "Epoch: 2 | Batch:  4000 | Loss: 0.688\n",
      "Epoch: 2 | Batch:  6000 | Loss: 0.708\n",
      "Epoch: 2 | Batch:  8000 | Loss: 0.714\n",
      "Epoch: 2 | Batch: 10000 | Loss: 0.769\n",
      "Epoch: 2 | Batch: 12000 | Loss: 0.727\n",
      "Epoch: 2 | Batch: 14000 | Loss: 0.746\n",
      "Epoch: 3 | Batch:  2000 | Loss: 0.710\n",
      "Epoch: 3 | Batch:  4000 | Loss: 0.705\n",
      "Epoch: 3 | Batch:  6000 | Loss: 0.734\n",
      "Epoch: 3 | Batch:  8000 | Loss: 0.752\n",
      "Epoch: 3 | Batch: 10000 | Loss: 0.724\n",
      "Epoch: 3 | Batch: 12000 | Loss: 0.796\n",
      "Epoch: 3 | Batch: 14000 | Loss: 0.767\n",
      "Epoch: 4 | Batch:  2000 | Loss: 0.797\n",
      "Epoch: 4 | Batch:  4000 | Loss: 0.750\n",
      "Epoch: 4 | Batch:  6000 | Loss: 0.716\n",
      "Epoch: 4 | Batch:  8000 | Loss: 0.838\n",
      "Epoch: 4 | Batch: 10000 | Loss: 0.928\n",
      "Epoch: 4 | Batch: 12000 | Loss: 0.794\n",
      "Epoch: 4 | Batch: 14000 | Loss: 0.794\n",
      "Epoch: 5 | Batch:  2000 | Loss: 0.795\n",
      "Epoch: 5 | Batch:  4000 | Loss: 0.833\n",
      "Epoch: 5 | Batch:  6000 | Loss: 0.836\n",
      "Epoch: 5 | Batch:  8000 | Loss: 0.801\n",
      "Epoch: 5 | Batch: 10000 | Loss: 0.797\n",
      "Epoch: 5 | Batch: 12000 | Loss: 0.825\n",
      "Epoch: 5 | Batch: 14000 | Loss: 0.887\n",
      "Finished Training\n"
     ]
    }
   ],
   "source": [
    "for epoch in range(NUM_EPOCH):  # loop over the dataset multiple times\n",
    "    running_loss = 0.0\n",
    "    for i, data in enumerate(train_loader, 0): # learn from 1 batch\n",
    "        # Get the inputs; data is a list of [inputs, labels]\n",
    "        inputs, labels = data\n",
    "\n",
    "        # Send data to GPU\n",
    "        inputs = inputs.cuda()\n",
    "        labels = labels.cuda()\n",
    "\n",
    "        # Zero the parameter gradients\n",
    "        optimizer.zero_grad()\n",
    "\n",
    "        # Forward propagation\n",
    "        outputs = net(inputs)\n",
    "        # Calculate loss\n",
    "        loss = criterion(outputs, labels)\n",
    "\n",
    "        # Backward propagation\n",
    "        loss.backward()\n",
    "\n",
    "        # Optimize\n",
    "        optimizer.step()\n",
    "\n",
    "        # Print statistics\n",
    "        running_loss += loss.item()\n",
    "        if i % 2000 == 1999:    # print every 2000 mini-batches\n",
    "            print('Epoch: %d | Batch: %5d | Loss: %.3f' %\n",
    "                  (epoch + 1, i + 1, running_loss / 2000))\n",
    "            running_loss = 0.0\n",
    "\n",
    "print('Finished Training')"
   ]
  },
  {
   "cell_type": "markdown",
   "metadata": {
    "colab_type": "text",
    "id": "7HNrI59FFoFr"
   },
   "source": [
    "# Evaluation"
   ]
  },
  {
   "cell_type": "code",
   "execution_count": 13,
   "metadata": {
    "colab": {
     "base_uri": "https://localhost:8080/",
     "height": 34
    },
    "colab_type": "code",
    "id": "aaNw6MioBxRI",
    "outputId": "e15d47ca-58f6-4514-99ce-9bbe90f29c25"
   },
   "outputs": [
    {
     "name": "stdout",
     "output_type": "stream",
     "text": [
      "Accuracy of the network on test images: 84 %\n"
     ]
    }
   ],
   "source": [
    "correct = 0\n",
    "total = 0\n",
    "\n",
    "# Switch network to evaluation mode\n",
    "net.eval()\n",
    "\n",
    "with torch.no_grad(): # we don't need gradients for evaluation\n",
    "    for data in test_loader:\n",
    "        # Get the inputs; data is a list of [inputs, labels]\n",
    "        images, labels = data\n",
    "\n",
    "        # Send data to GPU\n",
    "        images = images.cuda()\n",
    "        labels = labels.cuda()\n",
    "        \n",
    "        # Get prediction\n",
    "        outputs = net(images)\n",
    "        _, predicted = torch.max(outputs.data, 1)\n",
    "        \n",
    "        # Accumulate statistics\n",
    "        total += labels.size(0)\n",
    "        correct += (predicted == labels).sum().item()\n",
    "\n",
    "print('Accuracy of the network on test images: %d %%' % (\n",
    "    100 * correct / total))"
   ]
  },
  {
   "cell_type": "code",
   "execution_count": 14,
   "metadata": {
    "colab": {
     "base_uri": "https://localhost:8080/",
     "height": 34
    },
    "colab_type": "code",
    "id": "LFyDzHLCHBTn",
    "outputId": "834fba21-05a7-4ce7-e829-4f0d1e800fc7"
   },
   "outputs": [
    {
     "name": "stdout",
     "output_type": "stream",
     "text": [
      "Accuracy of the network on train images: 85 %\n"
     ]
    }
   ],
   "source": [
    "correct = 0\n",
    "total = 0\n",
    "\n",
    "# Switch network to evaluation mode\n",
    "net.eval()\n",
    "\n",
    "with torch.no_grad(): # we don't need gradients for evaluation\n",
    "    for data in train_loader:\n",
    "        # Get the inputs; data is a list of [inputs, labels]\n",
    "        images, labels = data\n",
    "\n",
    "        # Send data to GPU\n",
    "        images = images.cuda()\n",
    "        labels = labels.cuda()\n",
    "        \n",
    "        # Get prediction\n",
    "        outputs = net(images)\n",
    "        _, predicted = torch.max(outputs.data, 1)\n",
    "        \n",
    "        # Accumulate statistics\n",
    "        total += labels.size(0)\n",
    "        correct += (predicted == labels).sum().item()\n",
    "\n",
    "print('Accuracy of the network on train images: %d %%' % (\n",
    "    100 * correct / total))"
   ]
  },
  {
   "cell_type": "code",
   "execution_count": 15,
   "metadata": {},
   "outputs": [
    {
     "name": "stdout",
     "output_type": "stream",
     "text": [
      "Accuracy of     0 : 96 %\n",
      "Accuracy of     1 : 96 %\n",
      "Accuracy of     2 : 83 %\n",
      "Accuracy of     3 : 88 %\n",
      "Accuracy of     4 : 82 %\n",
      "Accuracy of     5 : 84 %\n",
      "Accuracy of     6 : 95 %\n",
      "Accuracy of     7 : 81 %\n",
      "Accuracy of     8 : 52 %\n",
      "Accuracy of     9 : 87 %\n"
     ]
    }
   ],
   "source": [
    "all_labels = []\n",
    "all_predictions = []\n",
    "classes = ('0', '1', '2', '3', '4', '5', '6', '7', '8', '9')\n",
    "class_correct = list(0. for i in range(NUM_CLASSES))\n",
    "class_total = list(0. for i in range(NUM_CLASSES))\n",
    "with torch.no_grad():\n",
    "    for data in test_loader:\n",
    "        images, labels = data\n",
    "        images = images.cuda()\n",
    "        labels = labels.cuda()\n",
    "        outputs = net(images)\n",
    "        _, predicted = torch.max(outputs.data, 1)\n",
    "        c = (predicted == labels).squeeze()\n",
    "        for i in range(BATCH_SIZE):\n",
    "            label = labels[i]\n",
    "            class_correct[label] += c[i].item()\n",
    "            class_total[label] += 1\n",
    "            all_labels.append(int(labels[i].to(\"cpu\").numpy()))\n",
    "            all_predictions.append(int(predicted[i].to(\"cpu\").numpy()))\n",
    "\n",
    "for i in range(NUM_CLASSES):\n",
    "    print('Accuracy of %5s : %2d %%' % (\n",
    "        classes[i], 100 * class_correct[i] / class_total[i]))"
   ]
  },
  {
   "cell_type": "code",
   "execution_count": 16,
   "metadata": {},
   "outputs": [
    {
     "data": {
      "text/plain": [
       "<matplotlib.axes._subplots.AxesSubplot at 0x18e6eeb5a90>"
      ]
     },
     "execution_count": 16,
     "metadata": {},
     "output_type": "execute_result"
    },
    {
     "data": {
      "image/png": "[encoded data removed]",
      "text/plain": [
       "<Figure size 720x720 with 2 Axes>"
      ]
     },
     "metadata": {
      "needs_background": "light"
     },
     "output_type": "display_data"
    }
   ],
   "source": [
    "import pandas as pd\n",
    "import seaborn as sn\n",
    "import matplotlib.pyplot as plt\n",
    "\n",
    "data = {'y_Actual': all_labels, 'y_Predicted': all_predictions}\n",
    "df = pd.DataFrame(data, columns=['y_Actual','y_Predicted'])\n",
    "confusion_matrix = pd.crosstab(df['y_Actual'], df['y_Predicted'], rownames=['Actual'], colnames=['Predicted'])\n",
    "\n",
    "fig, ax = plt.subplots(figsize=(10,10))  \n",
    "sn.heatmap(confusion_matrix, annot=True, ax=ax)"
   ]
  },
  {
   "cell_type": "code",
   "execution_count": null,
   "metadata": {},
   "outputs": [],
   "source": []
  }
 ],
 "metadata": {
  "accelerator": "GPU",
  "colab": {
   "collapsed_sections": [],
   "name": "binary_classification.ipynb",
   "provenance": []
  },
  "kernelspec": {
   "display_name": "Python 3",
   "language": "python",
   "name": "python3"
  },
  "language_info": {
   "codemirror_mode": {
    "name": "ipython",
    "version": 3
   },
   "file_extension": ".py",
   "mimetype": "text/x-python",
   "name": "python",
   "nbconvert_exporter": "python",
   "pygments_lexer": "ipython3",
   "version": "3.6.10"
  }
 },
 "nbformat": 4,
 "nbformat_minor": 1
}
