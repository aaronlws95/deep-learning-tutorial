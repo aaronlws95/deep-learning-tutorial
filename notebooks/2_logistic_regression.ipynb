{
 "cells": [
  {
   "cell_type": "markdown",
   "metadata": {
    "colab_type": "text",
    "id": "zkKfEtBwnmgC"
   },
   "source": [
    "# Part 2: Logistic Regression\n",
    "\n",
    "Logistic regression is a learning algorithm that is used to carry out classification tasks. Here we will see an example of logistic regression on the [MNIST](http://yann.lecun.com/exdb/mnist/) database of handwritten digits."
   ]
  },
  {
   "cell_type": "markdown",
   "metadata": {
    "colab_type": "text",
    "id": "Ffhdn0ofrnGI"
   },
   "source": [
    "# Setup\n",
    "\n",
    "First we need to import the relevant modules."
   ]
  },
  {
   "cell_type": "code",
   "execution_count": 1,
   "metadata": {
    "colab": {},
    "colab_type": "code",
    "id": "iXkYCLgnnr1W"
   },
   "outputs": [],
   "source": [
    "%matplotlib inline"
   ]
  },
  {
   "cell_type": "code",
   "execution_count": 2,
   "metadata": {
    "colab": {},
    "colab_type": "code",
    "id": "yyt8dudfkyvI"
   },
   "outputs": [],
   "source": [
    "import torch\n",
    "import torchvision\n",
    "import torchvision.transforms as transforms\n",
    "import torch.optim as optim\n",
    "import matplotlib.pyplot as plt\n",
    "import torch.nn as nn"
   ]
  },
  {
   "cell_type": "markdown",
   "metadata": {},
   "source": [
    "# Settings\n",
    "\n",
    "Here we define some constants that we will be using in this example."
   ]
  },
  {
   "cell_type": "code",
   "execution_count": 3,
   "metadata": {
    "colab": {},
    "colab_type": "code",
    "id": "D1G9OxpDrBmF"
   },
   "outputs": [],
   "source": [
    "# Settings\n",
    "NUM_CLASSES = 10\n",
    "IMG_SIZE = 28\n",
    "\n",
    "# Hyperparameters\n",
    "BATCH_SIZE = 4\n",
    "LEARNING_RATE = 0.001\n",
    "NUM_EPOCH = 2"
   ]
  },
  {
   "cell_type": "markdown",
   "metadata": {
    "colab_type": "text",
    "id": "gadEx7QDrkTO"
   },
   "source": [
    "# Prepare Data\n",
    "\n",
    "We can use the ``torchvision.datasets`` module to provide us with the MNIST dataset properly formatted for us to use in PyTorch. Custom datasets can be defined using ``torch.utils.data.Dataset``. After this, we can create a **dataloader** with ``torch.utils.data.DataLoader``. The dataloader combines a dataset and a sampler, and provides an iterable over the given dataset. With this, we can extract samples from the dataset with a loop."
   ]
  },
  {
   "cell_type": "code",
   "execution_count": 4,
   "metadata": {
    "colab": {},
    "colab_type": "code",
    "id": "wF6K_D_JpaVo"
   },
   "outputs": [],
   "source": [
    "# Create training dataloader\n",
    "train_set = torchvision.datasets.MNIST(root='./data', \n",
    "                                       train=True, \n",
    "                                       transform=transforms.ToTensor(), \n",
    "                                       download=True)\n",
    "train_loader = torch.utils.data.DataLoader(dataset=train_set, \n",
    "                                           batch_size=BATCH_SIZE, \n",
    "                                           shuffle=True)\n",
    "\n",
    "# Create testing dataloader\n",
    "test_set = torchvision.datasets.MNIST(root='./data', \n",
    "                                      train=False, \n",
    "                                      transform=transforms.ToTensor(), \n",
    "                                      download=True)\n",
    "test_loader = torch.utils.data.DataLoader(dataset=test_set, \n",
    "                                          batch_size=BATCH_SIZE, \n",
    "                                          shuffle=False)"
   ]
  },
  {
   "cell_type": "code",
   "execution_count": 5,
   "metadata": {
    "colab": {
     "base_uri": "https://localhost:8080/",
     "height": 50
    },
    "colab_type": "code",
    "id": "VjunzacfrziS",
    "outputId": "0b3a01e3-f1c1-4870-ed9b-09d4f90f0ae3"
   },
   "outputs": [
    {
     "name": "stdout",
     "output_type": "stream",
     "text": [
      "Number of training samples: 60000\n",
      "Number of testing samples: 10000\n"
     ]
    }
   ],
   "source": [
    "print('Number of training samples:', len(train_set))\n",
    "print('Number of testing samples:', len(test_set))"
   ]
  },
  {
   "cell_type": "code",
   "execution_count": 6,
   "metadata": {
    "colab": {
     "base_uri": "https://localhost:8080/",
     "height": 169
    },
    "colab_type": "code",
    "id": "KGl5jM8urytL",
    "outputId": "ce55deab-0886-4a74-f2e8-abe1214267ff"
   },
   "outputs": [
    {
     "name": "stdout",
     "output_type": "stream",
     "text": [
      "Shape: torch.Size([1, 28, 28])\n"
     ]
    },
    {
     "data": {
      "image/png": "[encoded data removed]",
      "text/plain": [
       "<Figure size 432x288 with 1 Axes>"
      ]
     },
     "metadata": {
      "needs_background": "light"
     },
     "output_type": "display_data"
    }
   ],
   "source": [
    "# Load one data batch\n",
    "inputs, classes = next(iter(train_loader))\n",
    "\n",
    "# Print image shape\n",
    "print('Shape:', inputs[0].shape)\n",
    "\n",
    "# Visualize the data batch\n",
    "out = torchvision.utils.make_grid(inputs)\n",
    "plt.imshow(out.permute(1, 2, 0))\n",
    "plt.title('Classes: ' + str(classes.numpy()))\n",
    "plt.show()"
   ]
  },
  {
   "cell_type": "markdown",
   "metadata": {
    "colab_type": "text",
    "id": "aNmmsUVUru-r"
   },
   "source": [
    "# Model\n",
    "\n",
    "Here we use the ``torch.nn`` module to help us define our logistic regression model. The logistic regression model can be seen as a simple single layer neural network."
   ]
  },
  {
   "cell_type": "markdown",
   "metadata": {},
   "source": [
    "<img src=\"images/logistic_regression.png\">"
   ]
  },
  {
   "cell_type": "code",
   "execution_count": 7,
   "metadata": {
    "colab": {},
    "colab_type": "code",
    "id": "MOk8jZLinvtR"
   },
   "outputs": [],
   "source": [
    "# Logistic Regression model\n",
    "class LogisticRegression(nn.Module):\n",
    "\n",
    "    def __init__(self, input_dim, output_dim):\n",
    "        super(LogisticRegression, self).__init__()\n",
    "        self.linear = torch.nn.Linear(input_dim, output_dim)\n",
    "\n",
    "    def forward(self, x):\n",
    "        x = x.view(BATCH_SIZE, -1) # flatten image into a vector\n",
    "        x = self.linear(x)\n",
    "        return x"
   ]
  },
  {
   "cell_type": "code",
   "execution_count": 8,
   "metadata": {
    "colab": {},
    "colab_type": "code",
    "id": "dPHw11-TszMC"
   },
   "outputs": [],
   "source": [
    "net = LogisticRegression(IMG_SIZE*IMG_SIZE, NUM_CLASSES)\n",
    "\n",
    "# Send model to GPU\n",
    "net = net.cuda()\n"
   ]
  },
  {
   "cell_type": "markdown",
   "metadata": {
    "colab_type": "text",
    "id": "3obGYyFJuOaB"
   },
   "source": [
    "# Loss Function\n",
    "\n",
    "We use Cross-Entropy Loss as the cost function to train our model. "
   ]
  },
  {
   "cell_type": "markdown",
   "metadata": {},
   "source": [
    "<img src=\"images/cross_entropy_loss.png\">"
   ]
  },
  {
   "cell_type": "code",
   "execution_count": 9,
   "metadata": {
    "colab": {},
    "colab_type": "code",
    "id": "hn_NfZvqs3lL"
   },
   "outputs": [],
   "source": [
    "# Define loss function\n",
    "criterion = nn.CrossEntropyLoss() # softmax followed by NLL"
   ]
  },
  {
   "cell_type": "markdown",
   "metadata": {
    "colab_type": "text",
    "id": "iVZSDV-1uRt2"
   },
   "source": [
    "# Optimization\n",
    "\n",
    "The ``torch.optim`` module implements optimization algorithms that will help us find the optimal parameters for our model. In our case, we will use Mini-batch Gradient Descent to optimize our model. "
   ]
  },
  {
   "cell_type": "markdown",
   "metadata": {},
   "source": [
    "The image below is a 2D representation of optimizating a cost function with gradient descent. The red ball represents our model parameters or weights, _w_, and with each update, we would like to move our ball closer to the global minimum. The \"velocity\" (direction and magnitude) we move our weights is determined by the gradient of our cost function with respect to the weights. The learning rate, _α_, controls how \"far\" we would like our weights to move on each update.\n",
    "\n",
    "<img src=\"images/optimization_ball_example.png\">"
   ]
  },
  {
   "cell_type": "code",
   "execution_count": 10,
   "metadata": {
    "colab": {},
    "colab_type": "code",
    "id": "oQmlX1UmuShy"
   },
   "outputs": [],
   "source": [
    "# Define optimizer\n",
    "optimizer = optim.SGD(net.parameters(), lr=LEARNING_RATE)"
   ]
  },
  {
   "cell_type": "markdown",
   "metadata": {
    "colab_type": "text",
    "id": "zxcgDdtSu57k"
   },
   "source": [
    "# Training the Model\n",
    "\n",
    "PyTorch has already provided all the necessary tools to allow us to train our model without worrying about lower level implementations. We have already defined everything we need to train our model, all we need to do is call it in the correct sequence. \n",
    "\n",
    "Training the model follows a simple pipeline: \n",
    "\n",
    "<div align=\"center\">\n",
    "<b>[sample data] → [forward propagation] → [calculate loss] → [backward propagation] → [update weights]</b>\n",
    "</div>\n",
    "\n",
    "* **Sample data**\n",
    "    * Get input and corresponding target output from the dataloader\n",
    "* **Forward propagation**\n",
    "    * Pass the input through the model and obtain a predicted output\n",
    "* **Calculate loss**\n",
    "    * Calculate the discrepancy between the target and prediction using the loss defined earlier\n",
    "* **Backward propagation**\n",
    "    * Calculate the loss gradients with respect to the model parameters\n",
    "* **Update weights**\n",
    "    * Update the model parameters using the optimizer defined earlier"
   ]
  },
  {
   "cell_type": "code",
   "execution_count": 11,
   "metadata": {},
   "outputs": [],
   "source": [
    "acc_train_loss = []\n",
    "acc_test_loss = []\n",
    "acc_iterations = []\n",
    "acc_train_accuracy = []\n",
    "acc_test_accuracy = []"
   ]
  },
  {
   "cell_type": "code",
   "execution_count": 12,
   "metadata": {},
   "outputs": [],
   "source": [
    "def validate(loader):\n",
    "    with torch.no_grad():\n",
    "        net.eval()\n",
    "        acc_loss = 0\n",
    "        total = 0\n",
    "        correct = 0\n",
    "        for i, data in enumerate(loader, 0): # learn from 1 batch\n",
    "            # Get the inputs; data is a list of [inputs, labels]\n",
    "            inputs, labels = data\n",
    "\n",
    "            # Send data to GPU\n",
    "            inputs = inputs.cuda()\n",
    "            labels = labels.cuda()\n",
    "\n",
    "            # Forward propagation\n",
    "            outputs = net(inputs)\n",
    "\n",
    "            # Calculate loss\n",
    "            acc_loss += criterion(outputs, labels)\n",
    "\n",
    "            # Get prediction\n",
    "            _, predicted = torch.max(outputs.data, 1)\n",
    "\n",
    "            # Accumulate statistics\n",
    "            total += labels.size(0)\n",
    "            correct += (predicted == labels).sum().item()\n",
    "        \n",
    "        net.train()\n",
    "        return (100 * correct / total), acc_loss/len(train_loader)"
   ]
  },
  {
   "cell_type": "code",
   "execution_count": 13,
   "metadata": {
    "colab": {
     "base_uri": "https://localhost:8080/",
     "height": 269
    },
    "colab_type": "code",
    "id": "66TT1rfNu7Nf",
    "outputId": "655e2788-5873-4eb2-c653-f2121c7e7cbd"
   },
   "outputs": [
    {
     "name": "stdout",
     "output_type": "stream",
     "text": [
      "Epoch: 1 | Batch:  2000 | Loss: 1.623\n",
      "Epoch: 1 | Batch:  4000 | Loss: 1.024\n",
      "Epoch: 1 | Batch:  6000 | Loss: 0.801\n",
      "Epoch: 1 | Batch:  8000 | Loss: 0.690\n",
      "Epoch: 1 | Batch: 10000 | Loss: 0.641\n",
      "Epoch: 1 | Batch: 12000 | Loss: 0.584\n",
      "Epoch: 1 | Batch: 14000 | Loss: 0.573\n",
      "Epoch: 2 | Batch:  2000 | Loss: 0.524\n",
      "Epoch: 2 | Batch:  4000 | Loss: 0.516\n",
      "Epoch: 2 | Batch:  6000 | Loss: 0.492\n",
      "Epoch: 2 | Batch:  8000 | Loss: 0.479\n",
      "Epoch: 2 | Batch: 10000 | Loss: 0.469\n",
      "Epoch: 2 | Batch: 12000 | Loss: 0.456\n",
      "Epoch: 2 | Batch: 14000 | Loss: 0.443\n",
      "Finished Training\n"
     ]
    }
   ],
   "source": [
    "for epoch in range(NUM_EPOCH):  # loop over the dataset multiple times\n",
    "    running_loss = 0.0\n",
    "    for i, data in enumerate(train_loader, 0): # learn from 1 batch\n",
    "        # Get the inputs; data is a list of [inputs, labels]\n",
    "        inputs, labels = data\n",
    "\n",
    "        # Send data to GPU\n",
    "        inputs = inputs.cuda()\n",
    "        labels = labels.cuda()\n",
    "\n",
    "        # Zero the parameter gradients\n",
    "        optimizer.zero_grad()\n",
    "\n",
    "        # Forward propagation\n",
    "        outputs = net(inputs)\n",
    "\n",
    "        # Calculate loss\n",
    "        loss = criterion(outputs, labels)\n",
    "\n",
    "        # Backward propagation\n",
    "        loss.backward()\n",
    "\n",
    "        # Optimize\n",
    "        optimizer.step()\n",
    "\n",
    "        # Print statistics\n",
    "        running_loss += loss.item()\n",
    "        if i % 2000 == 1999:    # print every 2000 mini-batches\n",
    "            print('Epoch: %d | Batch: %5d | Loss: %.3f' %\n",
    "                  (epoch + 1, i + 1, running_loss / 2000))\n",
    "            acc_iterations.append((epoch)*len(train_loader) + (i+1))\n",
    "#             acc_train_loss.append(running_loss/2000)\n",
    "            train_accuracy, train_loss = validate(train_loader)\n",
    "            acc_train_loss.append(train_loss)\n",
    "            acc_train_accuracy.append(train_accuracy)\n",
    "            test_accuracy, test_loss = validate(test_loader)\n",
    "            acc_test_loss.append(test_loss)\n",
    "            acc_test_accuracy.append(test_accuracy)\n",
    "            \n",
    "            running_loss = 0.0\n",
    "\n",
    "print('Finished Training')"
   ]
  },
  {
   "cell_type": "code",
   "execution_count": 14,
   "metadata": {},
   "outputs": [
    {
     "data": {
      "image/png": "[encoded data removed]",
      "text/plain": [
       "<Figure size 432x288 with 1 Axes>"
      ]
     },
     "metadata": {
      "needs_background": "light"
     },
     "output_type": "display_data"
    }
   ],
   "source": [
    "plt.plot(acc_iterations, acc_train_loss, 'r-')\n",
    "plt.plot(acc_iterations, acc_test_loss, 'b-')\n",
    "plt.legend(['Training', 'Testing'])\n",
    "plt.title('Loss')\n",
    "plt.show()"
   ]
  },
  {
   "cell_type": "code",
   "execution_count": 15,
   "metadata": {},
   "outputs": [
    {
     "data": {
      "image/png": "[encoded data removed]",
      "text/plain": [
       "<Figure size 432x288 with 1 Axes>"
      ]
     },
     "metadata": {
      "needs_background": "light"
     },
     "output_type": "display_data"
    }
   ],
   "source": [
    "plt.plot(acc_iterations, acc_train_accuracy, 'r-')\n",
    "plt.plot(acc_iterations, acc_test_accuracy, 'b-')\n",
    "plt.legend(['Training', 'Testing'])\n",
    "plt.title('Accuracy')\n",
    "plt.show()"
   ]
  },
  {
   "cell_type": "markdown",
   "metadata": {
    "colab_type": "text",
    "id": "1Fm-K6pAxUZm"
   },
   "source": [
    "# Evaluation\n",
    "\n",
    "Once we're done training our model, we can **evaluate** it to see how well we have trained it. The **metric** we use in this case is the **accuracy** defined as how many times we correctly predict an input number over the total sum of input data we are using."
   ]
  },
  {
   "cell_type": "code",
   "execution_count": 16,
   "metadata": {
    "colab": {
     "base_uri": "https://localhost:8080/",
     "height": 34
    },
    "colab_type": "code",
    "id": "KB-xlElMv3tm",
    "outputId": "2992a65b-91f1-44e4-bbb4-0970384e3ae7"
   },
   "outputs": [
    {
     "name": "stdout",
     "output_type": "stream",
     "text": [
      "Accuracy of the network on test images: 89 %\n"
     ]
    }
   ],
   "source": [
    "correct = 0\n",
    "total = 0\n",
    "\n",
    "# Switch network to evaluation mode\n",
    "net.eval()\n",
    "\n",
    "with torch.no_grad(): # we don't need gradients for evaluation\n",
    "    for data in test_loader:\n",
    "        # Get the inputs; data is a list of [inputs, labels]\n",
    "        images, labels = data\n",
    "\n",
    "        # Send data to GPU\n",
    "        images = images.cuda()\n",
    "        labels = labels.cuda()\n",
    "        \n",
    "        # Get prediction\n",
    "        outputs = net(images)\n",
    "        _, predicted = torch.max(outputs.data, 1)\n",
    "        \n",
    "        # Accumulate statistics\n",
    "        total += labels.size(0)\n",
    "        correct += (predicted == labels).sum().item()\n",
    "\n",
    "print('Accuracy of the network on test images: %d %%' % (\n",
    "    100 * correct / total))"
   ]
  },
  {
   "cell_type": "code",
   "execution_count": 17,
   "metadata": {
    "colab": {
     "base_uri": "https://localhost:8080/",
     "height": 34
    },
    "colab_type": "code",
    "id": "zQZ0a8ALyCLc",
    "outputId": "bb031693-6626-48b0-d09e-56b4f9d26f4c"
   },
   "outputs": [
    {
     "name": "stdout",
     "output_type": "stream",
     "text": [
      "Accuracy of the network on train images: 88 %\n"
     ]
    }
   ],
   "source": [
    "correct = 0\n",
    "total = 0\n",
    "\n",
    "# Switch network to evaluation mode\n",
    "net.eval()\n",
    "\n",
    "with torch.no_grad(): # we don't need gradients for evaluation\n",
    "    for data in train_loader:\n",
    "        # Get the inputs; data is a list of [inputs, labels]\n",
    "        images, labels = data\n",
    "\n",
    "        # Send data to GPU\n",
    "        images = images.cuda()\n",
    "        labels = labels.cuda()\n",
    "        \n",
    "        # Get prediction\n",
    "        outputs = net(images)\n",
    "        _, predicted = torch.max(outputs.data, 1)\n",
    "        \n",
    "        # Accumulate statistics\n",
    "        total += labels.size(0)\n",
    "        correct += (predicted == labels).sum().item()\n",
    "\n",
    "print('Accuracy of the network on train images: %d %%' % (\n",
    "    100 * correct / total))"
   ]
  },
  {
   "cell_type": "code",
   "execution_count": 18,
   "metadata": {
    "colab": {
     "base_uri": "https://localhost:8080/",
     "height": 185
    },
    "colab_type": "code",
    "id": "OOQvJOBjzH6V",
    "outputId": "ece75ae0-0c4c-4bb1-9d43-a9722d0540a7"
   },
   "outputs": [
    {
     "name": "stdout",
     "output_type": "stream",
     "text": [
      "Accuracy of     0 : 97 %\n",
      "Accuracy of     1 : 97 %\n",
      "Accuracy of     2 : 85 %\n",
      "Accuracy of     3 : 88 %\n",
      "Accuracy of     4 : 90 %\n",
      "Accuracy of     5 : 80 %\n",
      "Accuracy of     6 : 93 %\n",
      "Accuracy of     7 : 88 %\n",
      "Accuracy of     8 : 84 %\n",
      "Accuracy of     9 : 87 %\n"
     ]
    }
   ],
   "source": [
    "all_labels = []\n",
    "all_predictions = []\n",
    "classes = ('0', '1', '2', '3', '4', '5', '6', '7', '8', '9')\n",
    "class_correct = list(0. for i in range(NUM_CLASSES))\n",
    "class_total = list(0. for i in range(NUM_CLASSES))\n",
    "with torch.no_grad():\n",
    "    for data in test_loader:\n",
    "        images, labels = data\n",
    "        images = images.cuda()\n",
    "        labels = labels.cuda()\n",
    "        outputs = net(images)\n",
    "        _, predicted = torch.max(outputs.data, 1)\n",
    "        c = (predicted == labels).squeeze()\n",
    "        for i in range(BATCH_SIZE):\n",
    "            label = labels[i]\n",
    "            class_correct[label] += c[i].item()\n",
    "            class_total[label] += 1\n",
    "            all_labels.append(int(labels[i].to(\"cpu\").numpy()))\n",
    "            all_predictions.append(int(predicted[i].to(\"cpu\").numpy()))\n",
    "\n",
    "for i in range(NUM_CLASSES):\n",
    "    print('Accuracy of %5s : %2d %%' % (\n",
    "        classes[i], 100 * class_correct[i] / class_total[i]))"
   ]
  },
  {
   "cell_type": "code",
   "execution_count": 19,
   "metadata": {},
   "outputs": [
    {
     "data": {
      "text/plain": [
       "<matplotlib.axes._subplots.AxesSubplot at 0x2a7ffc11c50>"
      ]
     },
     "execution_count": 19,
     "metadata": {},
     "output_type": "execute_result"
    },
    {
     "data": {
      "image/png": "[encoded data removed]",
      "text/plain": [
       "<Figure size 720x720 with 2 Axes>"
      ]
     },
     "metadata": {
      "needs_background": "light"
     },
     "output_type": "display_data"
    }
   ],
   "source": [
    "import pandas as pd\n",
    "import seaborn as sn\n",
    "import matplotlib.pyplot as plt\n",
    "\n",
    "data = {'y_Actual': all_labels, 'y_Predicted': all_predictions}\n",
    "df = pd.DataFrame(data, columns=['y_Actual','y_Predicted'])\n",
    "confusion_matrix = pd.crosstab(df['y_Actual'], df['y_Predicted'], rownames=['Actual'], colnames=['Predicted'])\n",
    "\n",
    "fig, ax = plt.subplots(figsize=(10,10))\n",
    "sn.heatmap(confusion_matrix, annot=True, ax=ax)"
   ]
  },
  {
   "cell_type": "code",
   "execution_count": null,
   "metadata": {},
   "outputs": [],
   "source": []
  }
 ],
 "metadata": {
  "colab": {
   "collapsed_sections": [],
   "name": "logistic_regression.ipynb",
   "provenance": []
  },
  "kernelspec": {
   "display_name": "Python 3",
   "language": "python",
   "name": "python3"
  },
  "language_info": {
   "codemirror_mode": {
    "name": "ipython",
    "version": 3
   },
   "file_extension": ".py",
   "mimetype": "text/x-python",
   "name": "python",
   "nbconvert_exporter": "python",
   "pygments_lexer": "ipython3",
   "version": "3.6.10"
  }
 },
 "nbformat": 4,
 "nbformat_minor": 1
}
