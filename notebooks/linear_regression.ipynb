{
 "cells": [
  {
   "cell_type": "markdown",
   "metadata": {
    "colab_type": "text",
    "id": "wG0kUHDtJiS2"
   },
   "source": [
    "# Linear Regression"
   ]
  },
  {
   "cell_type": "markdown",
   "metadata": {
    "colab_type": "text",
    "id": "uXaBWp7VJlAE"
   },
   "source": [
    "# Setup"
   ]
  },
  {
   "cell_type": "code",
   "execution_count": 1,
   "metadata": {
    "colab": {},
    "colab_type": "code",
    "id": "g9mVCWAQJYFS"
   },
   "outputs": [],
   "source": [
    "%matplotlib inline"
   ]
  },
  {
   "cell_type": "code",
   "execution_count": 2,
   "metadata": {
    "colab": {},
    "colab_type": "code",
    "id": "EamkMFx3JnN9"
   },
   "outputs": [],
   "source": [
    "import torch\n",
    "import torchvision\n",
    "import torchvision.transforms as transforms\n",
    "import torch.optim as optim\n",
    "import matplotlib.pyplot as plt\n",
    "import torch.nn as nn"
   ]
  },
  {
   "cell_type": "code",
   "execution_count": 4,
   "metadata": {
    "colab": {},
    "colab_type": "code",
    "id": "oACzhjFZJoes"
   },
   "outputs": [],
   "source": [
    "# Settings\n",
    "TRUE_W = 5.0\n",
    "TRUE_b = 3.0\n",
    "NUM_EXAMPLES = 100\n",
    "\n",
    "# Hyperparameters\n",
    "LEARNING_RATE = 0.1\n",
    "NUM_EPOCH = 10\n",
    "BATCH_SIZE = NUM_EXAMPLES"
   ]
  },
  {
   "cell_type": "markdown",
   "metadata": {
    "colab_type": "text",
    "id": "AoAYlHS02fsz"
   },
   "source": [
    "# Prepare Data"
   ]
  },
  {
   "cell_type": "code",
   "execution_count": 5,
   "metadata": {
    "colab": {},
    "colab_type": "code",
    "id": "zPUirCBwJ_f8"
   },
   "outputs": [],
   "source": [
    "class LinearDataset(torch.utils.data.Dataset):\n",
    "\n",
    "    def __init__(self, w, b, num_examples):\n",
    "      # Generate random data samples\n",
    "      self.inputs = torch.randn(num_examples)\n",
    "      \n",
    "      # y = w * x + b\n",
    "      self.true = self.inputs * w + b\n",
    "\n",
    "      noise = torch.randn(num_examples)\n",
    "      self.labels = self.inputs * w + b + noise\n",
    "      \n",
    "    def __len__(self):\n",
    "        return len(self.inputs)\n",
    "\n",
    "    def __getitem__(self, idx):\n",
    "        return self.inputs[idx], self.labels[idx]\n",
    "\n",
    "    def plot(self):\n",
    "      plt.scatter(self.inputs, self.labels, c='b')\n",
    "      plt.scatter(self.inputs, self.true, c='r')\n",
    "      plt.legend(['training data', 'true'])\n",
    "      plt.show()\n",
    "\n",
    "    def get_data(self):\n",
    "      return self.inputs, self.labels"
   ]
  },
  {
   "cell_type": "code",
   "execution_count": 6,
   "metadata": {
    "colab": {},
    "colab_type": "code",
    "id": "BvzhDWUxPGdq"
   },
   "outputs": [],
   "source": [
    "# Create training dataloader\n",
    "train_set = LinearDataset(TRUE_W, TRUE_b, NUM_EXAMPLES)\n",
    "train_loader = torch.utils.data.DataLoader(dataset=train_set, \n",
    "                                           batch_size=BATCH_SIZE, \n",
    "                                           shuffle=True)"
   ]
  },
  {
   "cell_type": "code",
   "execution_count": 8,
   "metadata": {
    "colab": {
     "base_uri": "https://localhost:8080/",
     "height": 265
    },
    "colab_type": "code",
    "id": "Ftg6TilFKAO8",
    "outputId": "23f92a86-7699-437c-d4f9-64a1ecd80a1e"
   },
   "outputs": [
    {
     "data": {
      "image/png": "[encoded data removed]",
      "text/plain": [
       "<Figure size 432x288 with 1 Axes>"
      ]
     },
     "metadata": {
      "needs_background": "light"
     },
     "output_type": "display_data"
    }
   ],
   "source": [
    "train_set.plot()"
   ]
  },
  {
   "cell_type": "markdown",
   "metadata": {
    "colab_type": "text",
    "id": "izh4flct2iWX"
   },
   "source": [
    "# Model"
   ]
  },
  {
   "cell_type": "code",
   "execution_count": 10,
   "metadata": {
    "colab": {},
    "colab_type": "code",
    "id": "qf6RlHHkK61q"
   },
   "outputs": [],
   "source": [
    "# Linear Regression model\n",
    "class LinearRegression(nn.Module):\n",
    "\n",
    "    def __init__(self):\n",
    "        super(LinearRegression, self).__init__()\n",
    "        self.linear = torch.nn.Linear(1, 1)\n",
    "\n",
    "        # Initialize weights and bias\n",
    "        self.linear.weight.data.fill_(5)\n",
    "        self.linear.bias.data.fill_(0)\n",
    "\n",
    "    def forward(self, x):\n",
    "        x = self.linear(x)\n",
    "        return x"
   ]
  },
  {
   "cell_type": "code",
   "execution_count": 11,
   "metadata": {
    "colab": {},
    "colab_type": "code",
    "id": "IIE0zOWaMNfl"
   },
   "outputs": [],
   "source": [
    "net = LinearRegression()\n"
   ]
  },
  {
   "cell_type": "markdown",
   "metadata": {
    "colab_type": "text",
    "id": "nEgRUY1D2neY"
   },
   "source": [
    "# Loss Function"
   ]
  },
  {
   "cell_type": "code",
   "execution_count": 12,
   "metadata": {
    "colab": {},
    "colab_type": "code",
    "id": "5ngJv9o2KoVo"
   },
   "outputs": [],
   "source": [
    "# Define loss function\n",
    "criterion = nn.MSELoss()"
   ]
  },
  {
   "cell_type": "markdown",
   "metadata": {
    "colab_type": "text",
    "id": "FQ7fnsAN2pGx"
   },
   "source": [
    "# Optimizer"
   ]
  },
  {
   "cell_type": "code",
   "execution_count": 14,
   "metadata": {
    "colab": {},
    "colab_type": "code",
    "id": "KdSeVSV-MEmW"
   },
   "outputs": [],
   "source": [
    "# Define optimizer\n",
    "optimizer = optim.SGD(net.parameters(), lr=LEARNING_RATE)"
   ]
  },
  {
   "cell_type": "markdown",
   "metadata": {
    "colab_type": "text",
    "id": "t2CLIKLh7BD-"
   },
   "source": [
    "# Training the Model"
   ]
  },
  {
   "cell_type": "code",
   "execution_count": 17,
   "metadata": {
    "colab": {
     "base_uri": "https://localhost:8080/",
     "height": 202
    },
    "colab_type": "code",
    "id": "n2y51sL8MGwr",
    "outputId": "f58a0d47-b221-4926-d80f-e5834079e4d9"
   },
   "outputs": [
    {
     "name": "stdout",
     "output_type": "stream",
     "text": [
      "Epoch: 1 | Batch:     1 | Loss: 0.001\n",
      "Epoch: 2 | Batch:     1 | Loss: 0.001\n",
      "Epoch: 3 | Batch:     1 | Loss: 0.001\n",
      "Epoch: 4 | Batch:     1 | Loss: 0.001\n",
      "Epoch: 5 | Batch:     1 | Loss: 0.001\n",
      "Epoch: 6 | Batch:     1 | Loss: 0.001\n",
      "Epoch: 7 | Batch:     1 | Loss: 0.001\n",
      "Epoch: 8 | Batch:     1 | Loss: 0.001\n",
      "Epoch: 9 | Batch:     1 | Loss: 0.001\n",
      "Epoch: 10 | Batch:     1 | Loss: 0.001\n",
      "Finished Training\n"
     ]
    }
   ],
   "source": [
    "Ws = []\n",
    "bs = []\n",
    "\n",
    "for epoch in range(NUM_EPOCH):  # loop over the dataset multiple times\n",
    "    running_loss = 0.0\n",
    "    for i, data in enumerate(train_loader, 0): # learn from 1 batch\n",
    "        # Get the inputs; data is a list of [inputs, labels]\n",
    "        inputs, labels = data\n",
    "        inputs = inputs.unsqueeze(1)\n",
    "        labels = labels.unsqueeze(1)\n",
    "\n",
    "        # Zero the parameter gradients\n",
    "        optimizer.zero_grad()\n",
    "        # Forward propagation\n",
    "        outputs = net(inputs)\n",
    "\n",
    "        # Calculate loss\n",
    "        loss = criterion(outputs, labels)\n",
    "\n",
    "        # Backward propagation\n",
    "        loss.backward()\n",
    "\n",
    "        # Optimize\n",
    "        optimizer.step()\n",
    "\n",
    "        # Print statistics\n",
    "        running_loss += loss.item()\n",
    "        if i % 1 == 0:    # print every 2000 mini-batches\n",
    "            print('Epoch: %d | Batch: %5d | Loss: %.3f' %\n",
    "                  (epoch + 1, i + 1, running_loss / 2000))\n",
    "            running_loss = 0.0\n",
    "\n",
    "    # Accumulate predictions\n",
    "    Ws.append(float(net.linear.weight.data[0][0].numpy()))\n",
    "    bs.append(float(net.linear.bias[0].detach().numpy()))\n",
    "\n",
    "print('Finished Training')"
   ]
  },
  {
   "cell_type": "markdown",
   "metadata": {
    "colab_type": "text",
    "id": "MKlkHIgp7C7f"
   },
   "source": [
    "# Evaluation"
   ]
  },
  {
   "cell_type": "code",
   "execution_count": 18,
   "metadata": {
    "colab": {
     "base_uri": "https://localhost:8080/",
     "height": 34
    },
    "colab_type": "code",
    "id": "7qpo3ssiMyMb",
    "outputId": "502304dc-a0b5-452f-8020-cc6906f11062"
   },
   "outputs": [
    {
     "name": "stdout",
     "output_type": "stream",
     "text": [
      "Predicted W:  4.853415012359619 predicted b:  2.9804201126098633\n"
     ]
    }
   ],
   "source": [
    "pred_W = Ws[-1]\n",
    "pred_b = bs[-1]\n",
    "print('Predicted W: ', pred_W, 'predicted b: ', pred_b)"
   ]
  },
  {
   "cell_type": "code",
   "execution_count": 19,
   "metadata": {
    "colab": {
     "base_uri": "https://localhost:8080/",
     "height": 269
    },
    "colab_type": "code",
    "id": "v7Ejlejmup4C",
    "outputId": "edb81781-48ea-4dd3-ce1f-bdd259636da8"
   },
   "outputs": [
    {
     "data": {
      "image/png": "[encoded data removed]",
      "text/plain": [
       "<Figure size 432x288 with 1 Axes>"
      ]
     },
     "metadata": {
      "needs_background": "light"
     },
     "output_type": "display_data"
    }
   ],
   "source": [
    "inputs, labels = train_set.get_data()\n",
    "\n",
    "inputs = inputs.numpy()\n",
    "labels = labels.numpy()\n",
    "\n",
    "pred_line = pred_W * inputs + pred_b\n",
    "true_line = TRUE_W * inputs + TRUE_b\n",
    "\n",
    "plt.scatter(inputs, labels, c='r')\n",
    "plt.scatter(inputs, pred_line, c='g')\n",
    "plt.scatter(inputs, true_line, c='b')\n",
    "plt.legend(['training data', 'predicted', 'true'])\n",
    "plt.show()"
   ]
  },
  {
   "cell_type": "code",
   "execution_count": 20,
   "metadata": {
    "colab": {
     "base_uri": "https://localhost:8080/",
     "height": 279
    },
    "colab_type": "code",
    "id": "ARvo1O_bQydJ",
    "outputId": "a39b9475-903c-42fa-da7a-2e45f5e04d0a"
   },
   "outputs": [
    {
     "data": {
      "image/png": "[encoded data removed]",
      "text/plain": [
       "<Figure size 432x288 with 1 Axes>"
      ]
     },
     "metadata": {
      "needs_background": "light"
     },
     "output_type": "display_data"
    }
   ],
   "source": [
    "plt.plot(range(NUM_EPOCH), Ws, 'r',\n",
    "         range(NUM_EPOCH), bs, 'b')\n",
    "plt.plot([TRUE_W] * NUM_EPOCH, 'r--',\n",
    "         [TRUE_b] * NUM_EPOCH, 'b--')\n",
    "plt.xlabel('epoch')\n",
    "plt.legend(['W', 'b', 'True W', 'True b'])\n",
    "plt.show()"
   ]
  },
  {
   "cell_type": "code",
   "execution_count": null,
   "metadata": {},
   "outputs": [],
   "source": []
  }
 ],
 "metadata": {
  "colab": {
   "collapsed_sections": [],
   "name": "linear_regression.ipynb",
   "provenance": []
  },
  "kernelspec": {
   "display_name": "Python 3",
   "language": "python",
   "name": "python3"
  },
  "language_info": {
   "codemirror_mode": {
    "name": "ipython",
    "version": 3
   },
   "file_extension": ".py",
   "mimetype": "text/x-python",
   "name": "python",
   "nbconvert_exporter": "python",
   "pygments_lexer": "ipython3",
   "version": "3.6.10"
  }
 },
 "nbformat": 4,
 "nbformat_minor": 1
}
