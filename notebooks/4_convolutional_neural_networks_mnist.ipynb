{
 "cells": [
  {
   "cell_type": "markdown",
   "metadata": {
    "colab_type": "text",
    "id": "NbD6wN2jsNQk"
   },
   "source": [
    "# Part 4: Convolutional Neural Networks\n",
    "\n",
    "In this example, we replace the neural networks used in the [previous notebook](3_neural_networks.ipynb) for classifying mnist."
   ]
  },
  {
   "cell_type": "markdown",
   "metadata": {
    "colab_type": "text",
    "id": "tWy1TeXaugg5"
   },
   "source": [
    "# Setup"
   ]
  },
  {
   "cell_type": "code",
   "execution_count": 1,
   "metadata": {
    "colab": {},
    "colab_type": "code",
    "id": "uInhSQxQ2j0q"
   },
   "outputs": [],
   "source": [
    "%matplotlib inline"
   ]
  },
  {
   "cell_type": "code",
   "execution_count": 2,
   "metadata": {
    "colab": {},
    "colab_type": "code",
    "id": "wToffUGKsKUK"
   },
   "outputs": [],
   "source": [
    "import torch\n",
    "import torch.nn as nn\n",
    "import torch.nn.functional as F\n",
    "import torch.optim as optim\n",
    "import torchvision\n",
    "import torchvision.transforms as transforms\n",
    "import matplotlib.pyplot as plt\n",
    "from PIL import Image\n",
    "import numpy as np"
   ]
  },
  {
   "cell_type": "code",
   "execution_count": 17,
   "metadata": {
    "colab": {},
    "colab_type": "code",
    "id": "qZz0qkjP6gxI"
   },
   "outputs": [],
   "source": [
    "# Settings\n",
    "NUM_WORKERS = 2\n",
    "NUM_CLASSES = 10\n",
    "\n",
    "# Hyperparameters\n",
    "BATCH_SIZE = 4\n",
    "IMG_SIZE = 28 # Modify image dimensions to RESIZE x RESIZE\n",
    "NUM_EPOCH = 5\n",
    "LEARNING_RATE = 0.01\n",
    "MOMENTUM = 0.9"
   ]
  },
  {
   "cell_type": "markdown",
   "metadata": {
    "colab_type": "text",
    "id": "o260Uym4ul0T"
   },
   "source": [
    "# Prepare Data"
   ]
  },
  {
   "cell_type": "code",
   "execution_count": 18,
   "metadata": {
    "colab": {
     "base_uri": "https://localhost:8080/",
     "height": 202
    },
    "colab_type": "code",
    "id": "-k-iK-vGyD4Q",
    "outputId": "ef97b42f-a45c-4aa0-949d-8a3cb924f5f6"
   },
   "outputs": [],
   "source": [
    "# Create training dataloader\n",
    "train_set = torchvision.datasets.MNIST(root='./data', \n",
    "                                       train=True, \n",
    "                                       transform=transforms.ToTensor(), \n",
    "                                       download=True)\n",
    "train_loader = torch.utils.data.DataLoader(dataset=train_set, \n",
    "                                           batch_size=BATCH_SIZE, \n",
    "                                           shuffle=True)\n",
    "\n",
    "# Create testing dataloader\n",
    "test_set = torchvision.datasets.MNIST(root='./data', \n",
    "                                      train=False, \n",
    "                                      transform=transforms.ToTensor(), \n",
    "                                      download=True)\n",
    "test_loader = torch.utils.data.DataLoader(dataset=test_set, \n",
    "                                          batch_size=BATCH_SIZE, \n",
    "                                          shuffle=False)"
   ]
  },
  {
   "cell_type": "code",
   "execution_count": 19,
   "metadata": {
    "colab": {
     "base_uri": "https://localhost:8080/",
     "height": 286
    },
    "colab_type": "code",
    "id": "rbMIwX-w6KRi",
    "outputId": "a1250fce-f0cf-4d00-b908-7908f23ebc14"
   },
   "outputs": [
    {
     "name": "stdout",
     "output_type": "stream",
     "text": [
      "Number of training samples: 60000\n",
      "Number of testing samples: 10000\n"
     ]
    }
   ],
   "source": [
    "print('Number of training samples:', len(train_set))\n",
    "print('Number of testing samples:', len(test_set))"
   ]
  },
  {
   "cell_type": "code",
   "execution_count": 20,
   "metadata": {
    "colab": {},
    "colab_type": "code",
    "id": "MxQpv3WksrNw"
   },
   "outputs": [
    {
     "name": "stdout",
     "output_type": "stream",
     "text": [
      "Shape: torch.Size([1, 28, 28])\n"
     ]
    },
    {
     "data": {
      "image/png": "[encoded data removed]",
      "text/plain": [
       "<Figure size 432x288 with 1 Axes>"
      ]
     },
     "metadata": {
      "needs_background": "light"
     },
     "output_type": "display_data"
    }
   ],
   "source": [
    "# Load one data batch\n",
    "inputs, classes = next(iter(train_loader))\n",
    "\n",
    "# Print image shape\n",
    "print('Shape:', inputs[0].shape)\n",
    "\n",
    "# Visualize the data batch\n",
    "out = torchvision.utils.make_grid(inputs)\n",
    "plt.imshow(out.permute(1, 2, 0))\n",
    "plt.title('Classes: ' + str(classes.numpy()))\n",
    "plt.show()"
   ]
  },
  {
   "cell_type": "markdown",
   "metadata": {
    "colab_type": "text",
    "id": "269Heg7j-uT3"
   },
   "source": [
    "# Model\n",
    "\n",
    "Now we are going to use a **convolutional neural network** to classify our images. The convolutional neural network consists of **convolutional** layers, **ReLU** activation layers and **max pooling** layers."
   ]
  },
  {
   "cell_type": "markdown",
   "metadata": {},
   "source": [
    "<img src=\"images/CNN_architecture.jpeg\">"
   ]
  },
  {
   "cell_type": "code",
   "execution_count": 21,
   "metadata": {
    "colab": {},
    "colab_type": "code",
    "id": "lhwWxbGOITov"
   },
   "outputs": [],
   "source": [
    "# Simple convolutional net\n",
    "class ConvNet(nn.Module):\n",
    "\n",
    "    def __init__(self):\n",
    "        super(ConvNet, self).__init__()\n",
    "        # 3 input channel, 6 output channels, 3x3 convolution kernel\n",
    "        self.conv1 = nn.Conv2d(1, 6, 3, padding=1)\n",
    "        self.conv2 = nn.Conv2d(6, 16, 3, padding=1)\n",
    "        # an affine operation: y = Wx + b\n",
    "        self.fc1 = nn.Linear(16 * IMG_SIZE//4 * IMG_SIZE//4, 120)  \n",
    "        self.fc2 = nn.Linear(120, 84)\n",
    "        self.fc3 = nn.Linear(84, NUM_CLASSES)\n",
    "\n",
    "    def forward(self, x):\n",
    "        x = F.max_pool2d(F.relu(self.conv1(x)), 2)\n",
    "        x = F.max_pool2d(F.relu(self.conv2(x)), 2)\n",
    "        x = x.view(BATCH_SIZE, -1)\n",
    "        x = F.relu(self.fc1(x))\n",
    "        x = F.relu(self.fc2(x))\n",
    "        x = self.fc3(x)\n",
    "        return x"
   ]
  },
  {
   "cell_type": "code",
   "execution_count": 22,
   "metadata": {
    "colab": {},
    "colab_type": "code",
    "id": "wDr8WvlgBXrW"
   },
   "outputs": [],
   "source": [
    "net = ConvNet()\n",
    "\n",
    "# Send model to GPU\n",
    "net = net.cuda() "
   ]
  },
  {
   "cell_type": "markdown",
   "metadata": {
    "colab_type": "text",
    "id": "q7q4gXYbAsPQ"
   },
   "source": [
    "# Loss Function"
   ]
  },
  {
   "cell_type": "code",
   "execution_count": 23,
   "metadata": {
    "colab": {},
    "colab_type": "code",
    "id": "d6kWSti-udDG"
   },
   "outputs": [],
   "source": [
    "# Define loss function\n",
    "criterion = nn.CrossEntropyLoss()"
   ]
  },
  {
   "cell_type": "markdown",
   "metadata": {
    "colab_type": "text",
    "id": "wwrAAwTwFvJk"
   },
   "source": [
    "# Optimizer"
   ]
  },
  {
   "cell_type": "code",
   "execution_count": 24,
   "metadata": {
    "colab": {},
    "colab_type": "code",
    "id": "gYeijXFQFvnk"
   },
   "outputs": [],
   "source": [
    "# Define optimizer\n",
    "optimizer = optim.SGD(net.parameters(), lr=LEARNING_RATE, momentum=MOMENTUM)"
   ]
  },
  {
   "cell_type": "markdown",
   "metadata": {
    "colab_type": "text",
    "id": "MsLOQId4BH9s"
   },
   "source": [
    "# Training the Model"
   ]
  },
  {
   "cell_type": "code",
   "execution_count": 30,
   "metadata": {
    "colab": {
     "base_uri": "https://localhost:8080/",
     "height": 202
    },
    "colab_type": "code",
    "id": "PmMJHpU3BHhZ",
    "outputId": "ecdcdcc2-9109-46db-b3ff-3918e2524ee4"
   },
   "outputs": [
    {
     "name": "stdout",
     "output_type": "stream",
     "text": [
      "Epoch: 1 | Batch:  2000 | Loss: 0.652\n",
      "Epoch: 1 | Batch:  4000 | Loss: 0.242\n",
      "Epoch: 1 | Batch:  6000 | Loss: 0.199\n",
      "Epoch: 1 | Batch:  8000 | Loss: 0.205\n",
      "Epoch: 1 | Batch: 10000 | Loss: 0.184\n",
      "Epoch: 1 | Batch: 12000 | Loss: 0.158\n",
      "Epoch: 1 | Batch: 14000 | Loss: 0.157\n",
      "Epoch: 2 | Batch:  2000 | Loss: 0.170\n",
      "Epoch: 2 | Batch:  4000 | Loss: 0.156\n",
      "Epoch: 2 | Batch:  6000 | Loss: 0.168\n",
      "Epoch: 2 | Batch:  8000 | Loss: 0.184\n",
      "Epoch: 2 | Batch: 10000 | Loss: 0.189\n",
      "Epoch: 2 | Batch: 12000 | Loss: 0.172\n",
      "Epoch: 2 | Batch: 14000 | Loss: 0.181\n",
      "Epoch: 3 | Batch:  2000 | Loss: 0.174\n",
      "Epoch: 3 | Batch:  4000 | Loss: 0.194\n",
      "Epoch: 3 | Batch:  6000 | Loss: 0.269\n",
      "Epoch: 3 | Batch:  8000 | Loss: 0.230\n",
      "Epoch: 3 | Batch: 10000 | Loss: 0.215\n",
      "Epoch: 3 | Batch: 12000 | Loss: 0.237\n",
      "Epoch: 3 | Batch: 14000 | Loss: 0.293\n",
      "Epoch: 4 | Batch:  2000 | Loss: 0.266\n",
      "Epoch: 4 | Batch:  4000 | Loss: 0.245\n",
      "Epoch: 4 | Batch:  6000 | Loss: 0.282\n",
      "Epoch: 4 | Batch:  8000 | Loss: 0.449\n",
      "Epoch: 4 | Batch: 10000 | Loss: 0.371\n",
      "Epoch: 4 | Batch: 12000 | Loss: 0.357\n",
      "Epoch: 4 | Batch: 14000 | Loss: 0.353\n",
      "Epoch: 5 | Batch:  2000 | Loss: 0.288\n",
      "Epoch: 5 | Batch:  4000 | Loss: 0.329\n",
      "Epoch: 5 | Batch:  6000 | Loss: 0.415\n",
      "Epoch: 5 | Batch:  8000 | Loss: 0.294\n",
      "Epoch: 5 | Batch: 10000 | Loss: 0.259\n",
      "Epoch: 5 | Batch: 12000 | Loss: 0.268\n",
      "Epoch: 5 | Batch: 14000 | Loss: 0.221\n",
      "Finished Training\n"
     ]
    }
   ],
   "source": [
    "for epoch in range(NUM_EPOCH):  # loop over the dataset multiple times\n",
    "    running_loss = 0.0\n",
    "    for i, data in enumerate(train_loader, 0): # learn from 1 batch\n",
    "        # Get the inputs; data is a list of [inputs, labels]\n",
    "        inputs, labels = data\n",
    "\n",
    "        # Send data to GPU\n",
    "        inputs = inputs.cuda()\n",
    "        labels = labels.cuda()\n",
    "\n",
    "        # Zero the parameter gradients\n",
    "        optimizer.zero_grad()\n",
    "\n",
    "        # Forward propagation\n",
    "        outputs = net(inputs)\n",
    "\n",
    "        # Calculate loss\n",
    "        loss = criterion(outputs, labels)\n",
    "\n",
    "        # Backward propagation\n",
    "        loss.backward()\n",
    "\n",
    "        # Optimize\n",
    "        optimizer.step()\n",
    "\n",
    "        # Print statistics\n",
    "        running_loss += loss.item()\n",
    "        if i % 2000 == 1999:    # print every 2000 mini-batches\n",
    "            print('Epoch: %d | Batch: %5d | Loss: %.3f' %\n",
    "                  (epoch + 1, i + 1, running_loss / 2000))\n",
    "            running_loss = 0.0\n",
    "\n",
    "print('Finished Training')"
   ]
  },
  {
   "cell_type": "markdown",
   "metadata": {
    "colab_type": "text",
    "id": "7HNrI59FFoFr"
   },
   "source": [
    "# Evaluation"
   ]
  },
  {
   "cell_type": "code",
   "execution_count": 31,
   "metadata": {
    "colab": {
     "base_uri": "https://localhost:8080/",
     "height": 34
    },
    "colab_type": "code",
    "id": "aaNw6MioBxRI",
    "outputId": "e15d47ca-58f6-4514-99ce-9bbe90f29c25"
   },
   "outputs": [
    {
     "name": "stdout",
     "output_type": "stream",
     "text": [
      "Accuracy of the network on test images: 94 %\n"
     ]
    }
   ],
   "source": [
    "correct = 0\n",
    "total = 0\n",
    "\n",
    "# Switch network to evaluation mode\n",
    "net.eval()\n",
    "\n",
    "with torch.no_grad(): # we don't need gradients for evaluation\n",
    "    for data in test_loader:\n",
    "        # Get the inputs; data is a list of [inputs, labels]\n",
    "        images, labels = data\n",
    "\n",
    "        # Send data to GPU\n",
    "        images = images.cuda()\n",
    "        labels = labels.cuda()\n",
    "        \n",
    "        # Get prediction\n",
    "        outputs = net(images)\n",
    "        _, predicted = torch.max(outputs.data, 1)\n",
    "        \n",
    "        # Accumulate statistics\n",
    "        total += labels.size(0)\n",
    "        correct += (predicted == labels).sum().item()\n",
    "\n",
    "print('Accuracy of the network on test images: %d %%' % (\n",
    "    100 * correct / total))"
   ]
  },
  {
   "cell_type": "code",
   "execution_count": 32,
   "metadata": {
    "colab": {
     "base_uri": "https://localhost:8080/",
     "height": 34
    },
    "colab_type": "code",
    "id": "LFyDzHLCHBTn",
    "outputId": "834fba21-05a7-4ce7-e829-4f0d1e800fc7"
   },
   "outputs": [
    {
     "name": "stdout",
     "output_type": "stream",
     "text": [
      "Accuracy of the network on train images: 94 %\n"
     ]
    }
   ],
   "source": [
    "correct = 0\n",
    "total = 0\n",
    "\n",
    "# Switch network to evaluation mode\n",
    "net.eval()\n",
    "\n",
    "with torch.no_grad(): # we don't need gradients for evaluation\n",
    "    for data in train_loader:\n",
    "        # Get the inputs; data is a list of [inputs, labels]\n",
    "        images, labels = data\n",
    "\n",
    "        # Send data to GPU\n",
    "        images = images.cuda()\n",
    "        labels = labels.cuda()\n",
    "        \n",
    "        # Get prediction\n",
    "        outputs = net(images)\n",
    "        _, predicted = torch.max(outputs.data, 1)\n",
    "        \n",
    "        # Accumulate statistics\n",
    "        total += labels.size(0)\n",
    "        correct += (predicted == labels).sum().item()\n",
    "\n",
    "print('Accuracy of the network on train images: %d %%' % (\n",
    "    100 * correct / total))"
   ]
  },
  {
   "cell_type": "code",
   "execution_count": 33,
   "metadata": {
    "colab": {
     "base_uri": "https://localhost:8080/",
     "height": 50
    },
    "colab_type": "code",
    "id": "e8kbZdkLWwvk",
    "outputId": "268568e0-0ba5-4c9c-a135-401ca8823699"
   },
   "outputs": [
    {
     "name": "stdout",
     "output_type": "stream",
     "text": [
      "Accuracy of     0 : 99 %\n",
      "Accuracy of     1 : 98 %\n",
      "Accuracy of     2 : 95 %\n",
      "Accuracy of     3 : 97 %\n",
      "Accuracy of     4 : 92 %\n",
      "Accuracy of     5 : 87 %\n",
      "Accuracy of     6 : 96 %\n",
      "Accuracy of     7 : 95 %\n",
      "Accuracy of     8 : 89 %\n",
      "Accuracy of     9 : 90 %\n"
     ]
    }
   ],
   "source": [
    "all_labels = []\n",
    "all_predictions = []\n",
    "classes = ('0', '1', '2', '3', '4', '5', '6', '7', '8', '9')\n",
    "class_correct = list(0. for i in range(NUM_CLASSES))\n",
    "class_total = list(0. for i in range(NUM_CLASSES))\n",
    "with torch.no_grad():\n",
    "    for data in test_loader:\n",
    "        images, labels = data\n",
    "        images = images.cuda()\n",
    "        labels = labels.cuda()\n",
    "        outputs = net(images)\n",
    "        _, predicted = torch.max(outputs.data, 1)\n",
    "        c = (predicted == labels).squeeze()\n",
    "        for i in range(BATCH_SIZE):\n",
    "            label = labels[i]\n",
    "            class_correct[label] += c[i].item()\n",
    "            class_total[label] += 1\n",
    "            all_labels.append(int(labels[i].to(\"cpu\").numpy()))\n",
    "            all_predictions.append(int(predicted[i].to(\"cpu\").numpy()))\n",
    "\n",
    "for i in range(NUM_CLASSES):\n",
    "    print('Accuracy of %5s : %2d %%' % (\n",
    "        classes[i], 100 * class_correct[i] / class_total[i]))"
   ]
  },
  {
   "cell_type": "code",
   "execution_count": 34,
   "metadata": {},
   "outputs": [
    {
     "data": {
      "text/plain": [
       "<matplotlib.axes._subplots.AxesSubplot at 0x14e8859f320>"
      ]
     },
     "execution_count": 34,
     "metadata": {},
     "output_type": "execute_result"
    },
    {
     "data": {
      "image/png": "[encoded data removed]",
      "text/plain": [
       "<Figure size 720x720 with 2 Axes>"
      ]
     },
     "metadata": {
      "needs_background": "light"
     },
     "output_type": "display_data"
    }
   ],
   "source": [
    "import pandas as pd\n",
    "import seaborn as sn\n",
    "import matplotlib.pyplot as plt\n",
    "\n",
    "data = {'y_Actual': all_labels, 'y_Predicted': all_predictions}\n",
    "df = pd.DataFrame(data, columns=['y_Actual','y_Predicted'])\n",
    "confusion_matrix = pd.crosstab(df['y_Actual'], df['y_Predicted'], rownames=['Actual'], colnames=['Predicted'])\n",
    "\n",
    "fig, ax = plt.subplots(figsize=(10,10))\n",
    "sn.heatmap(confusion_matrix, annot=True, ax=ax)"
   ]
  },
  {
   "cell_type": "code",
   "execution_count": null,
   "metadata": {},
   "outputs": [],
   "source": []
  }
 ],
 "metadata": {
  "accelerator": "GPU",
  "colab": {
   "collapsed_sections": [],
   "name": "binary_classification.ipynb",
   "provenance": []
  },
  "kernelspec": {
   "display_name": "Python 3",
   "language": "python",
   "name": "python3"
  },
  "language_info": {
   "codemirror_mode": {
    "name": "ipython",
    "version": 3
   },
   "file_extension": ".py",
   "mimetype": "text/x-python",
   "name": "python",
   "nbconvert_exporter": "python",
   "pygments_lexer": "ipython3",
   "version": "3.6.10"
  }
 },
 "nbformat": 4,
 "nbformat_minor": 1
}
